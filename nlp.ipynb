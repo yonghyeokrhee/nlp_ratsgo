{
 "cells": [
  {
   "cell_type": "code",
   "execution_count": 1,
   "metadata": {
    "id": "eCbCfV_H2RJL"
   },
   "outputs": [],
   "source": [
    "import pandas as pd"
   ]
  },
  {
   "cell_type": "code",
   "execution_count": 2,
   "metadata": {
    "id": "4wjLd6lU2RJP"
   },
   "outputs": [],
   "source": [
    "trans = pd.read_excel('과제3번 추가 자료_2.xlsx')"
   ]
  },
  {
   "cell_type": "code",
   "execution_count": 3,
   "metadata": {
    "id": "SmfoxAop2RJV"
   },
   "outputs": [],
   "source": [
    "from konlpy.tag import Mecab"
   ]
  },
  {
   "cell_type": "code",
   "execution_count": 4,
   "metadata": {
    "id": "acIitjOP2RJV"
   },
   "outputs": [],
   "source": [
    "tagger = Mecab()"
   ]
  },
  {
   "cell_type": "code",
   "execution_count": 5,
   "metadata": {
    "id": "_aIeOLjH2RJV"
   },
   "outputs": [],
   "source": [
    "trans['encode'] = trans['공종코드'].astype('category').cat.codes"
   ]
  },
  {
   "cell_type": "code",
   "execution_count": 6,
   "metadata": {
    "id": "-_x0PA1b2RJW"
   },
   "outputs": [],
   "source": [
    "corpus_li =[]\n",
    "for i in trans['적요']:\n",
    "    corpus_li.append(' '.join(tagger.nouns(i)))"
   ]
  },
  {
   "cell_type": "code",
   "execution_count": 7,
   "metadata": {
    "id": "NQbjdKJN2RJW"
   },
   "outputs": [],
   "source": [
    "trans['parse'] = corpus_li"
   ]
  },
  {
   "cell_type": "code",
   "execution_count": 8,
   "metadata": {
    "id": "P45bi81_2RJZ"
   },
   "outputs": [],
   "source": [
    "from sklearn.feature_extraction.text import CountVectorizer"
   ]
  },
  {
   "cell_type": "code",
   "execution_count": 9,
   "metadata": {
    "id": "voEGrDPd2RJZ"
   },
   "outputs": [],
   "source": [
    "count_vect = CountVectorizer()"
   ]
  },
  {
   "cell_type": "code",
   "execution_count": 10,
   "metadata": {
    "id": "-SqV9kZy2RJZ"
   },
   "outputs": [],
   "source": [
    "X_train_counts = count_vect.fit_transform(corpus_li)"
   ]
  },
  {
   "cell_type": "code",
   "execution_count": 11,
   "metadata": {
    "id": "03MAWSR92RJZ",
    "outputId": "b583281a-1c98-42b4-b15f-4ad98e644d40"
   },
   "outputs": [
    {
     "data": {
      "text/plain": [
       "(2578, 788)"
      ]
     },
     "execution_count": 11,
     "metadata": {},
     "output_type": "execute_result"
    }
   ],
   "source": [
    "from sklearn.feature_extraction.text import TfidfTransformer\n",
    "tf_transformer = TfidfTransformer(use_idf=False).fit(X_train_counts)\n",
    "X_train_tf = tf_transformer.transform(X_train_counts)\n",
    "X_train_tf.shape"
   ]
  },
  {
   "cell_type": "code",
   "execution_count": 12,
   "metadata": {
    "id": "qLhpljBt2RJa"
   },
   "outputs": [],
   "source": [
    "from sklearn.naive_bayes import MultinomialNB\n",
    "clf = MultinomialNB().fit(X_train_tf, trans['encode'])"
   ]
  },
  {
   "cell_type": "code",
   "execution_count": 13,
   "metadata": {
    "id": "K7PUiahP2RJa"
   },
   "outputs": [],
   "source": [
    "import numpy as np\n",
    "temp = np.random.choice(corpus_li,100)"
   ]
  },
  {
   "cell_type": "code",
   "execution_count": 14,
   "metadata": {
    "id": "Gch7XSI82RJa"
   },
   "outputs": [],
   "source": [
    "docs_new = temp\n",
    "X_new_counts = count_vect.transform(docs_new)\n",
    "X_new_tfidf = tf_transformer.transform(X_new_counts)\n",
    "\n",
    "predicted = clf.predict(X_new_tfidf)"
   ]
  },
  {
   "cell_type": "code",
   "execution_count": 15,
   "metadata": {
    "id": "UGvQICNm2RJa"
   },
   "outputs": [],
   "source": [
    "encode_index = []\n",
    "for i in temp:\n",
    "    encode_index.append(trans[trans['parse'] == i].encode.values[0])\n",
    "    "
   ]
  },
  {
   "cell_type": "code",
   "execution_count": 16,
   "metadata": {
    "id": "0_zeLK2F2RJa",
    "outputId": "63fded69-c7ac-4ea9-b5d2-0c6c90826c52"
   },
   "outputs": [
    {
     "data": {
      "text/plain": [
       "array([ 25,  25,  94,  25, 111,  31, 105,  27,  25, 108, 106,  25,  36,\n",
       "        37,  99,  25, 105, 109,  25, 104,  21,   7, 103,  25,  70,  45,\n",
       "       105,  25,  70,  96,  31,  34, 111, 103,   8,  25,  25,  25,  31,\n",
       "       103,   5,  29, 103,  25,  41,  25,   9, 106,  25,  25, 111,  30,\n",
       "        25, 109, 111, 110,  92,  69, 105,  72, 103, 105, 111,  25,  41,\n",
       "       105,  25,  21,  66, 105, 109, 111, 105, 108,  72,  25,  25,  31,\n",
       "        11,  25, 109, 105,  69,  53,  40, 105,  40,  25,  25,  37, 111,\n",
       "        25, 111, 106, 108, 102,   9, 110,  96,  25], dtype=int8)"
      ]
     },
     "execution_count": 16,
     "metadata": {},
     "output_type": "execute_result"
    }
   ],
   "source": [
    "np.array(encode_index)"
   ]
  },
  {
   "cell_type": "code",
   "execution_count": 17,
   "metadata": {
    "id": "5ufi1vIS2RJb",
    "outputId": "961d88e1-3dc5-40b5-c0ce-07dc14dd035b"
   },
   "outputs": [
    {
     "data": {
      "text/plain": [
       "0.46"
      ]
     },
     "execution_count": 17,
     "metadata": {},
     "output_type": "execute_result"
    }
   ],
   "source": [
    "np.mean(predicted == np.array(encode_index))"
   ]
  },
  {
   "cell_type": "code",
   "execution_count": 18,
   "metadata": {
    "id": "P236wET-2RJb",
    "outputId": "de6e4188-5f3d-4f8f-9bee-693d5ca5d0cd"
   },
   "outputs": [
    {
     "name": "stdout",
     "output_type": "stream",
     "text": [
      "'직원 식대 법인 카드 청구' => 복리후생비, 실제공종명: 식대\n",
      "'직원 식대 법인 카드 청구' => 복리후생비, 실제공종명: 식대\n",
      "'년 월 회사 차량 유류 비 투싼 하' => 여비교통비, 실제공종명: 산업안전보건관리비\n",
      "'직원 식대 법인 카드 청구' => 복리후생비, 실제공종명: 식대\n",
      "'음료수 구입 반납 법인 카드 청구' => 복리후생비, 실제공종명: 복리후생비\n",
      "'음식물 종량제 봉투 구매' => 설계용품및비품대, 실제공종명: 설계용품및비품대\n",
      "'년 월 시내 교통비 장철호' => 여비교통비, 실제공종명: 여비교통비\n",
      "'년 월 아파트 관리비 거여 울림' => 직원숙소운영비, 실제공종명: 직원숙소운영비\n",
      "'직원 음료 법인 카드 청구' => 식대, 실제공종명: 식대\n",
      "'택배' => 복리후생비, 실제공종명: 통신비\n",
      "'년 월 선급 비용 국내 공사 원가 수수료 원가 대체 취소' => 제세공과, 실제공종명: 제세공과\n",
      "'직원 식대 법인 카드 청구' => 복리후생비, 실제공종명: 식대\n",
      "'자금 결제 시내 교통비' => 여비교통비, 실제공종명: 교통비 및 출장비\n",
      "'년 월 직원 차량 유류 대 조석봉' => 여비교통비, 실제공종명: 업무용유류비\n",
      "'년 월 현장 터널 수당' => 직원급료, 실제공종명: 터널수당비\n",
      "'식당 식대 법인 카드 청구' => 식대, 실제공종명: 식대\n",
      "'귀 경비 년 월 홍정석' => 여비교통비, 실제공종명: 여비교통비\n",
      "'년 월 전기 요금 석동 공급 가액 취소' => 전력및수도광열비, 실제공종명: 전력및수도광열비\n",
      "'직원 식대 법인 카드 청구' => 복리후생비, 실제공종명: 식대\n",
      "'현장 견학 기념품 법인 카드 청구' => 복리후생비, 실제공종명: 사무용품비\n",
      "'인건비 퇴직 시 급여 조정 금액' => 2) 상용직급료, 실제공종명: 2) 상용직급료\n",
      "'년 월 지게차 임차료' => 복리후생비, 실제공종명: 지게차\n",
      "'민원 보상비 서부산 낙동 강교 피해 차량 보상비 코오롱 글로벌 주 휠 코리 아동 구점' => 민원처리비, 실제공종명: 민원처리비\n",
      "'직원 간 식대 법인 카드 청구' => 복리후생비, 실제공종명: 식대\n",
      "'년 월 선급 비용 국내 공사 원가 수수료 원가 대체' => 제세공과, 실제공종명: 시공보증수수료\n",
      "'년 월 타워 크레인 카메라 임차료' => 여비교통비, 실제공종명: 현장안전감시시스템\n",
      "'년 월 직원 차량 유류 비 싼타페 외 외' => 여비교통비, 실제공종명: 여비교통비\n",
      "'직원 간 식대 법인 카드 청구' => 복리후생비, 실제공종명: 식대\n",
      "'년 월 선급 비용 국내 공사 원가 수수료 원가 대체' => 제세공과, 실제공종명: 시공보증수수료\n",
      "'년 월 선급 비용 국내 공사 원가 보험료 원가 대체' => 공사손해보험료, 실제공종명: 공사손해보험료\n",
      "'건전지 구매 법인 카드 청구' => 복리후생비, 실제공종명: 설계용품및비품대\n",
      "'년 월 본사 외 정보 시스템 자산 전산 자원 감가상각' => 사무용품비, 실제공종명: PC사용료\n",
      "'년 월 식대 과세' => 복리후생비, 실제공종명: 복리후생비\n",
      "'민원 보상비 서부산 낙동 강교 피해 차량 보상비 김증 현' => 민원처리비, 실제공종명: 민원처리비\n",
      "'차세대 고정 창유리 수리' => 여비교통비, 실제공종명: 수선비\n",
      "'직원 식대 법인 카드 청구' => 복리후생비, 실제공종명: 식대\n",
      "'직원 식대 법인 카드 청구' => 복리후생비, 실제공종명: 식대\n",
      "'직원 간 식대 법인 카드 청구' => 복리후생비, 실제공종명: 식대\n",
      "'손 세정제 구매 법인 카드 청구' => 복리후생비, 실제공종명: 설계용품및비품대\n",
      "'장비 대 민원 처 리비 성주 골 이전' => 민원처리비, 실제공종명: 민원처리비\n",
      "'년 월 리스 부채 월상 환' => 여비교통비, 실제공종명: 양중장비(TOWER CRANE)\n",
      "'복리 후생 학자금 급여 일반직 전문직' => 직원급료, 실제공종명: 복지기금\n",
      "'민원 보상비 서부산 낙동 강교 피해 차량 보상비 이현창' => 민원처리비, 실제공종명: 민원처리비\n",
      "'직원 식대 법인 카드 청구' => 복리후생비, 실제공종명: 식대\n",
      "'년 월 이동 통신비' => 통신비, 실제공종명: 현장이동통신비\n",
      "'직원 음료 법인 카드 청구' => 식대, 실제공종명: 식대\n",
      "'년 월 전기 요금 강우 건설' => 전기요금, 실제공종명: 전기요금\n",
      "'선급금 보증 수수료 창원시 관내 국도 체우 회도 안민 터널 차 해제 정산' => 제세공과, 실제공종명: 제세공과\n",
      "'직원 식대 법인 카드 청구' => 복리후생비, 실제공종명: 식대\n",
      "'직원 식대 법인 카드 청구' => 복리후생비, 실제공종명: 식대\n",
      "'공정 회의 후 직원 회식 대' => 복리후생비, 실제공종명: 복리후생비\n",
      "'년 월 연장 근무 비 세기 엔지' => 식대, 실제공종명: 감리시간외 근무수당\n",
      "'직원 식대 법인 카드 청구' => 복리후생비, 실제공종명: 식대\n",
      "'년 월 안민 전기세' => 전력및수도광열비, 실제공종명: 전력및수도광열비\n",
      "'상차림 비용 법인 카드 청구' => 복리후생비, 실제공종명: 복리후생비\n",
      "'년 월 비주 간사 직원 회사 부담 건강 보험료' => 상용인건비, 실제공종명: 상용인건비\n",
      "'고용 보험료 월 외 주비 회사 부담 취소' => 여비교통비, 실제공종명: 고용보험료\n",
      "'년 월 도급 진행 매출 공사 손실 보수 충당 부채 환원 전표 취소' => 하자보수충당금전입액, 실제공종명: 2.9 하자보수충당금\n",
      "'년 월 회사 차량 렌트 료 테페 하' => 여비교통비, 실제공종명: 여비교통비\n",
      "'년 월 안민 터널 계측 비' => 산업안전보건관리비, 실제공종명: TSP 탐사(직영)\n",
      "'민원 보상비 서부산 낙동 강교 피해 차량 보상비 곽 후기' => 민원처리비, 실제공종명: 민원처리비\n",
      "'년 월 공제 차량 임차료 코란도 스포츠 보험료' => 여비교통비, 실제공종명: 여비교통비\n",
      "'도서 구입' => 복리후생비, 실제공종명: 복리후생비\n",
      "'직원 식대 법인 카드 청구' => 복리후생비, 실제공종명: 식대\n",
      "'년 월 이동 통신비' => 통신비, 실제공종명: 현장이동통신비\n",
      "'년 월 리스 부채 월상 환 산타페 하' => 여비교통비, 실제공종명: 여비교통비\n",
      "'직원 식대 법인 카드 청구' => 복리후생비, 실제공종명: 식대\n",
      "'인건비 급여 현채 직' => 상용인건비, 실제공종명: 2) 상용직급료\n",
      "'보험료 월 석면 피해 구제 분담금' => 산재보험료, 실제공종명: 일용직국민연금/건강\n",
      "'년 월 시내 교통비 장철호' => 여비교통비, 실제공종명: 여비교통비\n",
      "'년 월 전기 요금 석동 단수 차' => 전력및수도광열비, 실제공종명: 전력및수도광열비\n",
      "'케익 어린이날 법인 카드 청구' => 복리후생비, 실제공종명: 복리후생비\n",
      "'귀 경비 년 월 김정태' => 여비교통비, 실제공종명: 여비교통비\n",
      "'년 월 전화 요금 외 세금 계산 서분' => 통신비, 실제공종명: 통신비\n",
      "'년 월 안민 터널 계측 비' => 산업안전보건관리비, 실제공종명: TSP 탐사(직영)\n",
      "'직원 음료 법인 카드 청구' => 식대, 실제공종명: 식대\n",
      "'직원 식대 법인 카드 청구' => 복리후생비, 실제공종명: 식대\n",
      "'컵 홀더 구매' => 설계용품및비품대, 실제공종명: 설계용품및비품대\n",
      "'년 월 상 하수도 요금' => 전기요금, 실제공종명: 사무실용상하수도사용료\n",
      "'직원 식대 법인 카드 청구' => 복리후생비, 실제공종명: 식대\n",
      "'년 월 전기 요금 사무실 공급 가액' => 전력및수도광열비, 실제공종명: 전력및수도광열비\n",
      "'귀 경비 년 월 김정태' => 여비교통비, 실제공종명: 여비교통비\n",
      "'년 월 도급 진행 매출 공사 손실 보수 충당 부채 계상 전표' => 하자보수충당금전입액, 실제공종명: 2.9 하자보수충당금\n",
      "'인건비 퇴 직충 당금 정산 취소' => 여비교통비, 실제공종명: 퇴직급여충당금\n",
      "'정첩 퀵 서비스' => 우편요금, 실제공종명: 우편요금\n",
      "'년 월 사용 자산 감가상각 투싼 하' => 여비교통비, 실제공종명: 여비교통비\n",
      "'등기우편 요금 조합 법인 카드 청구' => 복리후생비, 실제공종명: 우편요금\n",
      "'직원 식대' => 복리후생비, 실제공종명: 식대\n",
      "'직원 간 식대 법인 카드 청구' => 복리후생비, 실제공종명: 식대\n",
      "'년 월 직원 차량 유류 대 서기열 하 법인 카드 청구' => 복리후생비, 실제공종명: 업무용유류비\n",
      "'식대 고기 법인 카드 청구' => 복리후생비, 실제공종명: 복리후생비\n",
      "'직원 음료 법인 카드 청구' => 식대, 실제공종명: 식대\n",
      "'식대 버터 법인 카드 청구' => 복리후생비, 실제공종명: 복리후생비\n",
      "'노 무비 닷컴 사용료 법인 카드 청구' => 복리후생비, 실제공종명: 제세공과\n",
      "'등기우편 법인 카드 청구' => 복리후생비, 실제공종명: 통신비\n",
      "'계약 관리 지원 발생 비용 현장 투자' => 복리후생비, 실제공종명: 기술용역비\n",
      "'년 월 전기 요금 신영 월텍' => 전기요금, 실제공종명: 전기요금\n",
      "'고용 보험료 월 인건비 회사 부담 취소' => 상용인건비, 실제공종명: 상용인건비\n",
      "'년 월 선급 비용 국내 공사 원가 보험료 원가 대체' => 공사손해보험료, 실제공종명: 공사손해보험료\n",
      "'직원 식대' => 복리후생비, 실제공종명: 식대\n"
     ]
    }
   ],
   "source": [
    "for doc, category in zip(docs_new, predicted):\n",
    "    print('%r => %s, 실제공종명:' % (doc, trans[trans.encode == category]['공종명'].values[0]),\n",
    "         trans[trans.parse == doc]['공종명'].values[0])"
   ]
  }
 ],
 "metadata": {
  "colab": {
   "name": "nlp.ipynb",
   "provenance": []
  },
  "kernelspec": {
   "display_name": "Python 3",
   "language": "python",
   "name": "python3"
  },
  "language_info": {
   "codemirror_mode": {
    "name": "ipython",
    "version": 3
   },
   "file_extension": ".py",
   "mimetype": "text/x-python",
   "name": "python",
   "nbconvert_exporter": "python",
   "pygments_lexer": "ipython3",
   "version": "3.5.2"
  }
 },
 "nbformat": 4,
 "nbformat_minor": 1
}
